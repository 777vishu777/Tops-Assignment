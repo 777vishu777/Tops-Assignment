{
 "cells": [
  {
   "cell_type": "code",
   "execution_count": 1,
   "id": "ca2a82ce",
   "metadata": {},
   "outputs": [
    {
     "name": "stdout",
     "output_type": "stream",
     "text": [
      "Using reverse()  [12, 11, 10, 9, 8, 7]\n",
      "Using reversed()  [7, 8, 9, 10, 11, 12]\n"
     ]
    }
   ],
   "source": [
    "#QUE-->> What is List? How will you reverse a list?\n",
    "\n",
    "#-->Lists are used to store multiple items in a single variable.\n",
    "#Lists are one of 4 built-in data types in Python used to store collections of data,\n",
    "#the other 3 are Tuple, Set, and Dictionary, all with different qualities and usage.\n",
    "\n",
    "lst = [7, 8, 9, 10, 11, 12]\n",
    "lst.reverse()\n",
    "print(\"Using reverse() \", lst)\n",
    "\n",
    "print(\"Using reversed() \", list(reversed(lst)))"
   ]
  },
  {
   "cell_type": "code",
   "execution_count": 2,
   "id": "fa37d757",
   "metadata": {},
   "outputs": [
    {
     "name": "stdout",
     "output_type": "stream",
     "text": [
      "[2, 33, 222, 14]\n"
     ]
    }
   ],
   "source": [
    "#que-->> How will you remove last object from a list?\n",
    "\n",
    "#-->To remove the last object from a list in Python,you can use the pop() method with the index\n",
    "#The pop() method removes and returns the item at the specified index. If you don't specify an index,\n",
    "#it will remove and return the last item in the list by default. By specifying the index -1,\n",
    "#we are telling Python to remove the last item in the list. The modified list is then printed using the print() function.\n",
    "\n",
    "my_list=[2, 33, 222, 14,25]\n",
    "my_list.pop(-1)\n",
    "print(my_list)"
   ]
  },
  {
   "cell_type": "code",
   "execution_count": 1,
   "id": "94863a27",
   "metadata": {},
   "outputs": [
    {
     "name": "stdout",
     "output_type": "stream",
     "text": [
      "['geeks', 'for', 'geeks']\n"
     ]
    }
   ],
   "source": [
    "#QUE-->>Differentiate between append () and extend () methods?\n",
    "\n",
    "                                  #APPEND METHOD\n",
    "\n",
    "#Python’s append() function inserts a single element into an existing list.\n",
    "#The element will be added to the end of the old list rather than being returned to a new list.\n",
    "#Adds its argument as a single element to the end of a list. The length of the list increases by one.\n",
    "\n",
    "my_list = ['geeks', 'for']\n",
    "my_list.append('geeks')\n",
    "print(my_list)"
   ]
  },
  {
   "cell_type": "code",
   "execution_count": 7,
   "id": "e98ec0f5",
   "metadata": {},
   "outputs": [
    {
     "name": "stdout",
     "output_type": "stream",
     "text": [
      "['apple', 'banana', 'cherry', 'orange']\n"
     ]
    }
   ],
   "source": [
    "fruits = [\"apple\", \"banana\", \"cherry\"]\n",
    "\n",
    "fruits.append(\"orange\")\n",
    "\n",
    "print(fruits)"
   ]
  },
  {
   "cell_type": "code",
   "execution_count": 2,
   "id": "c3b8b119",
   "metadata": {},
   "outputs": [
    {
     "name": "stdout",
     "output_type": "stream",
     "text": [
      "['makwana', 'vishal', 7, 0, 7, 1]\n"
     ]
    }
   ],
   "source": [
    "                             #Extend METHOD\n",
    "#The Python’s List extend() method iterates over an iterable like string, list, tuple, etc.,\n",
    "#and adds each element of the iterable to the end of the List, modifying the original list.\n",
    "\n",
    "list = ['makwana', 'vishal']\n",
    "another_list = [7, 0, 7, 1]\n",
    "list.extend(another_list)\n",
    "print(list)\n",
    "\n"
   ]
  },
  {
   "cell_type": "code",
   "execution_count": 3,
   "id": "d72e0028",
   "metadata": {},
   "outputs": [
    {
     "name": "stdout",
     "output_type": "stream",
     "text": [
      "['HELLO', 'GOOD', 'MORNING']\n"
     ]
    }
   ],
   "source": [
    "list1=[\"HELLO\",\"GOOD\"]\n",
    "list2=[\"MORNING\"]\n",
    "list1.extend(list2)\n",
    "print(list1)"
   ]
  },
  {
   "cell_type": "code",
   "execution_count": 8,
   "id": "23a955f6",
   "metadata": {},
   "outputs": [
    {
     "name": "stdout",
     "output_type": "stream",
     "text": [
      "55550005\n",
      "7\n"
     ]
    }
   ],
   "source": [
    "#Write a Python function to get the largest number, smallest num and sum of all from a list. \n",
    "\n",
    "#largest number ex\n",
    "\n",
    "a= (100000, 55550005, 3335, 9000009)\n",
    "b= max(a)\n",
    "print(b)\n",
    "\n",
    "x=(1,2,3,4,5,6,7,7)\n",
    "y=max(x)\n",
    "print(y)\n",
    "\n",
    "#Smallest number ex\n"
   ]
  },
  {
   "cell_type": "code",
   "execution_count": null,
   "id": "413691aa",
   "metadata": {},
   "outputs": [],
   "source": []
  }
 ],
 "metadata": {
  "kernelspec": {
   "display_name": "Python 3 (ipykernel)",
   "language": "python",
   "name": "python3"
  },
  "language_info": {
   "codemirror_mode": {
    "name": "ipython",
    "version": 3
   },
   "file_extension": ".py",
   "mimetype": "text/x-python",
   "name": "python",
   "nbconvert_exporter": "python",
   "pygments_lexer": "ipython3",
   "version": "3.9.13"
  }
 },
 "nbformat": 4,
 "nbformat_minor": 5
}
