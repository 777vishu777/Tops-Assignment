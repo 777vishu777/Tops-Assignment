{
 "cells": [
  {
   "cell_type": "code",
   "execution_count": 1,
   "id": "1c7a6abf",
   "metadata": {},
   "outputs": [
    {
     "ename": "SyntaxError",
     "evalue": "invalid syntax (615243802.py, line 1)",
     "output_type": "error",
     "traceback": [
      "\u001b[1;36m  File \u001b[1;32m\"C:\\Users\\Admin\\AppData\\Local\\Temp\\ipykernel_416\\615243802.py\"\u001b[1;36m, line \u001b[1;32m1\u001b[0m\n\u001b[1;33m    QUE-> #What is software ?\u001b[0m\n\u001b[1;37m       ^\u001b[0m\n\u001b[1;31mSyntaxError\u001b[0m\u001b[1;31m:\u001b[0m invalid syntax\n"
     ]
    }
   ],
   "source": [
    "QUE-> #What is software ?\n",
    "\n",
    "ANS-> #Software Is a Set Of Computer Programs And Associated Documentation And Data"
   ]
  },
  {
   "cell_type": "code",
   "execution_count": null,
   "id": "d807dcb3",
   "metadata": {},
   "outputs": [],
   "source": [
    "QUE-> What Are The Types Of Applications?\n",
    "\n",
    "ANS->1-Native Application,\n",
    "     2-Hybrid Applicition(1-react native,2-flutter)\n",
    "     3-Web Appliciton(1-front-end interface disign,2-back-end devlopment)\n",
    "     4-Progressive Applicition(PWA)\n"
   ]
  },
  {
   "cell_type": "code",
   "execution_count": null,
   "id": "dac3a0fc",
   "metadata": {},
   "outputs": [],
   "source": [
    "QUE-> What Is programing?\n",
    "\n",
    "ANS-> Programing Is A collaboration Between Humans And Comupters."
   ]
  },
  {
   "cell_type": "code",
   "execution_count": null,
   "id": "cf6def89",
   "metadata": {},
   "outputs": [],
   "source": [
    "QUE-> What Is Python?\n",
    "\n",
    "ANS-> python Is clear And Powerful Object-orineted,high-level programming Language,comparable Perl,Ruby Or java.\n",
    "       python is a  Programming language that combines fetures of c and java."
   ]
  },
  {
   "cell_type": "code",
   "execution_count": null,
   "id": "2daae714",
   "metadata": {},
   "outputs": [],
   "source": [
    ">>> #Python program to check if a number is positive,negative or zero.\n",
    " #using if...elif...else...\n",
    "\n",
    "num=10\n",
    "if num>0:\n",
    "    print(\"positive number\")\n"
   ]
  },
  {
   "cell_type": "code",
   "execution_count": null,
   "id": "7e860bf6",
   "metadata": {},
   "outputs": [],
   "source": [
    "num==0\n",
    "elif num==0:\n",
    "    print(\"zero\")"
   ]
  },
  {
   "cell_type": "code",
   "execution_count": null,
   "id": "3d640dce",
   "metadata": {},
   "outputs": [],
   "source": [
    "num=0:\n",
    "    else num(\"negative\")"
   ]
  },
  {
   "cell_type": "code",
   "execution_count": null,
   "id": "2d659c24",
   "metadata": {},
   "outputs": [],
   "source": [
    "#QUE--->#Write a Python program to get the Factorial number of given number.\n",
    "# Function to find factorial of given number\n",
    "\n",
    "num=int(input(\"enter a number here:\"))\n",
    "fact=1\n",
    "if num<0:\n",
    "    print(\"factorial of 0 dose not exist\")\n",
    "if num==0:\n",
    "    print(\"factorial of 0 is\",1)\n",
    "if num>0:\n",
    "    for i in range(1,num+1):\n",
    "        fact=fact*i\n",
    "print(\"the factorial of the given number is\",fact)\n"
   ]
  },
  {
   "cell_type": "code",
   "execution_count": null,
   "id": "b29787e3",
   "metadata": {},
   "outputs": [],
   "source": [
    "# function to find factorial of given number\n",
    "num=int(input(\"enter a number here:\"))\n",
    "fact=1\n",
    "if num<0:\n",
    "    print(\"factorial of 0 dose not exist\")\n",
    "if num==0:\n",
    "    print(\"factorial of 0 is\",1)\n",
    "if num>0:\n",
    "    for i in range(1,num+1):\n",
    "          fact=fact*i\n",
    "print(\"the factorial of the given number is\",fact)\n",
    "          "
   ]
  },
  {
   "cell_type": "code",
   "execution_count": null,
   "id": "97f337d4",
   "metadata": {},
   "outputs": [],
   "source": [
    "#--->>>Write a Python program to get the Fibonacci series of given range.\n",
    " \n",
    "a=0\n",
    "b=1\n",
    "num=int(input(\"enter a number to obtain fibonacci sequence:\"))\n",
    "if num==1:\n",
    "    print(a)\n",
    "else:\n",
    "    print(a)\n",
    "    print(b)\n",
    "    for i in range (1,num+1):\n",
    "        c=a+b\n",
    "        a=b\n",
    "        b=c\n",
    "        print(c)\n",
    "        \n"
   ]
  },
  {
   "cell_type": "code",
   "execution_count": null,
   "id": "dc887f1b",
   "metadata": {},
   "outputs": [],
   "source": [
    "a=0\n",
    "b=1\n",
    "num=int(input(\"enter a number to obtain fibonacci sequence:\"))\n",
    "if num==1:\n",
    "    print(a)\n",
    "else:\n",
    "    print(a)\n",
    "    print(b)\n",
    "for i in range(1,num+1):\n",
    "    c=a+b\n",
    "    a=b\n",
    "    b=c\n",
    "    print(c)"
   ]
  },
  {
   "cell_type": "code",
   "execution_count": null,
   "id": "648946fc",
   "metadata": {},
   "outputs": [],
   "source": [
    "#---->>How memory is managed in pthon.\n",
    "       Understanding Memory allocation is important to any software developer as writing efficient code means writing a memory-efficient code.\n",
    "       Memory allocation can be defined as allocating a block of space in the computer memory to a program.\n",
    "        In Python memory allocation and deallocation method is automatic as the Python developers created a garbage collector for Python so that the user does not have to do manual garbage collection.\n",
    "        >>#GARBAGE COLLECTION:\n",
    "    Garbage collection is a process in which the interpreter frees up the memory when not in use to make it available for other objects.\n",
    "    Assume a case where no reference is pointing to an object in memory i.e. it is not in use so,\n",
    "    the virtual machine has a garbage collector that automatically deletes that object from the heap memory"
   ]
  },
  {
   "cell_type": "code",
   "execution_count": null,
   "id": "6147ccf1",
   "metadata": {},
   "outputs": [],
   "source": [
    "#---->> What is the purpose continue statement in python?\n",
    "#continue statement\n",
    "for i in range(10):\n",
    "    if(i==3):\n",
    "        continue\n",
    "    print(i)\n",
    "print(\"rest of the code\")"
   ]
  },
  {
   "cell_type": "code",
   "execution_count": null,
   "id": "4f017abc",
   "metadata": {},
   "outputs": [],
   "source": [
    "#continue statement\n",
    "for  i in range(15):\n",
    "    if(i==5):\n",
    "        continue\n",
    "    print(i)\n",
    "print(\"rest of the code\")\n",
    "    "
   ]
  },
  {
   "cell_type": "code",
   "execution_count": null,
   "id": "64873229",
   "metadata": {},
   "outputs": [],
   "source": [
    "#----->>Write python program that swap two number with temp variable and \n",
    "#without temp variable.\n",
    "\n",
    "#ANS-->>#swap to two variable with temp\n",
    "\n",
    "a=5\n",
    "b=10\n",
    "temp=a\n",
    "a=b\n",
    "b=temp\n",
    "print(\"a\",b)\n",
    "print(\"b\",a)"
   ]
  },
  {
   "cell_type": "code",
   "execution_count": null,
   "id": "7e1bd1c4",
   "metadata": {},
   "outputs": [],
   "source": [
    "#swap to two variable without temp\n",
    "a=10\n",
    "b=20\n",
    "a=a+b\n",
    "b=a-b\n",
    "a=a-b\n",
    "print(\"a\",a)\n",
    "print(\"b\",b)"
   ]
  },
  {
   "cell_type": "code",
   "execution_count": null,
   "id": "8df81c6b",
   "metadata": {},
   "outputs": [],
   "source": [
    "#QUE--->> Write a Python program to find whether a given number is even or odd, \n",
    "#print out an appropriate message to the user.\n",
    "#ANS-->odd number\n",
    "number=int(input(\"enter an integer number\"))\n",
    "\n",
    "remainder=number%2\n",
    "\n",
    "if(remainder==0):\n",
    "    print(\"{} is an even number\".format(number))\n",
    "else:\n",
    "    print(\"{} is an odd number\".format(number))\n",
    "    \n",
    "#even number\n",
    "    \n",
    "number=int(input(\"enter an integer number\"))\n",
    "\n",
    "remainder=number%2\n",
    "\n",
    "if(remainder==0):\n",
    "    print(\"{} is an even number\".format(number))\n",
    "else:\n",
    "    print(\"{} is an odd number\".format(number))\n",
    "    \n",
    "\n"
   ]
  },
  {
   "cell_type": "code",
   "execution_count": null,
   "id": "f6ce3c0b",
   "metadata": {},
   "outputs": [],
   "source": [
    "#---->> Write a Python program to test whether a passed letter is a vowel or \n",
    "#not.\n",
    "\n",
    "#ANS->>\n",
    "ch=input(\"enter a character:\")\n",
    "if(ch==\"a\" or ch==\"e\" or ch==\"i\" or ch==\"o\" or ch==\"u\"):\n",
    "    print(\"it's a vowel\")\n",
    "else:\n",
    "    print(\"not a vowel\")\n",
    "    \n"
   ]
  },
  {
   "cell_type": "code",
   "execution_count": null,
   "id": "feaff043",
   "metadata": {},
   "outputs": [],
   "source": [
    "#--->> Write a Python program to sum of three given integers. However, if \n",
    "#two values are equal sum will be zero.\n",
    "#---->>\n",
    "a=int(input(\"enter first value:\"))\n",
    "b=int(input(\"enter second value:\"))\n",
    "c=int(input(\"enter third value\"))\n",
    "if a==b or b==c or c==a:\n",
    "    print(\"sum is :\",0)\n",
    "else:\n",
    "    print(\"sum is :\",a+b+c)"
   ]
  },
  {
   "cell_type": "code",
   "execution_count": null,
   "id": "533bfa2a",
   "metadata": {},
   "outputs": [],
   "source": [
    "#QUE--->>Write a Python program that will return true if the two given integer \n",
    "#values are equal or their sum or difference is 5.\n",
    "\n",
    "def test_numbers(a,b):\n",
    "    if a==b or abs(a-b)==5 or (a+b)==5:\n",
    "        return True\n",
    "    else:\n",
    "        return False\n",
    "print(test_numbers(8,5))\n",
    "print(test_numbers(2,7))\n",
    "print(test_numbers(3,2))\n",
    "print(test_numbers(2,2))\n",
    "print(test_numbers(10,5))\n",
    "print(test_numbers(7,3))\n",
    "print(test_numbers(27,59))"
   ]
  },
  {
   "cell_type": "code",
   "execution_count": null,
   "id": "32cb62ef",
   "metadata": {},
   "outputs": [],
   "source": [
    "#QUE-->> Write a python program to sum of the first n positive integers.\n",
    "\n",
    "num=int(input(\"enter a number here:\"))\n",
    "if num<0:\n",
    "    print(\"please enter positive number\")\n",
    "else:\n",
    "    sum=0\n",
    "    while num>0:\n",
    "        sum+=num\n",
    "        num-=1\n",
    "    print(sum)\n",
    "\n"
   ]
  },
  {
   "cell_type": "code",
   "execution_count": null,
   "id": "c91111d8",
   "metadata": {},
   "outputs": [],
   "source": [
    "#QUE-->>Write a Python program to calculate the length of a string.\n",
    "\n",
    "str1=input(\"enter the string:\")\n",
    "length=len(str1)\n",
    "print(\"the length of the string is\"+str(length))"
   ]
  },
  {
   "cell_type": "code",
   "execution_count": null,
   "id": "5cd031b1",
   "metadata": {},
   "outputs": [],
   "source": [
    "#QUE--->>Write a Python program to count the number of characters (character \n",
    "#frequency) in a string.\n",
    "\n",
    "str=input(\"enter string\")\n",
    "l=list(str)\n",
    "freq=[l.count(ele)for ele in l]\n",
    "d=dict(zip(l,freq))\n",
    "print(d)\n"
   ]
  },
  {
   "cell_type": "code",
   "execution_count": null,
   "id": "1378539a",
   "metadata": {},
   "outputs": [],
   "source": [
    "#QUE-->> What are negative indexes and why are they used?\n"
   ]
  },
  {
   "cell_type": "code",
   "execution_count": 2,
   "id": "507be481",
   "metadata": {},
   "outputs": [
    {
     "name": "stdout",
     "output_type": "stream",
     "text": [
      "enter a string:hello world,how are you today\n",
      "enter a substring:how\n",
      "substring occurs 1 time\n"
     ]
    }
   ],
   "source": [
    "#QUE-->> Write a Python program to count occurrences of a substring in a string.\n",
    "string=input(\"enter a string:\")\n",
    "substring=input(\"enter a substring:\")\n",
    "count=string.count(substring)\n",
    "print(\"substring occurs %d time\"% count)"
   ]
  },
  {
   "cell_type": "code",
   "execution_count": 1,
   "id": "b4f3bf5e",
   "metadata": {},
   "outputs": [
    {
     "name": "stdout",
     "output_type": "stream",
     "text": [
      "enter line of stringhello how are you all hello world\n",
      "hello present 2 times\n",
      "how present 1 times\n",
      "are present 1 times\n",
      "you present 1 times\n",
      "all present 1 times\n",
      "hello present 2 times\n",
      "world present 1 times\n"
     ]
    }
   ],
   "source": [
    "#QUE-->> Write a Python program to count the occurrences of each word in a given sentence\n",
    "str=input(\"enter line of string\")\n",
    "str=str.split()\n",
    "i=0\n",
    "count=0\n",
    "while i<len(str):\n",
    "    count=0\n",
    "    for j in str:\n",
    "        if str[i]==j:\n",
    "            count=count+1\n",
    "    print(str[i],\"present\",count,\"times\")\n",
    "    i=i+1"
   ]
  },
  {
   "cell_type": "code",
   "execution_count": 2,
   "id": "b36b3321",
   "metadata": {},
   "outputs": [
    {
     "name": "stdout",
     "output_type": "stream",
     "text": [
      "mood gorning\n"
     ]
    }
   ],
   "source": [
    "#QUE-->>Write a Python program to get a single string from two given strings, separated by a space and swap the first two characters of each string.\n",
    "def swap_string_chars(s1, s2):\n",
    "    new_s1 = s2[:2] + s1[2:]\n",
    "    new_s2 = s1[:2] + s2[2:]\n",
    "    return new_s1 + ' ' + new_s2\n",
    "s1 = 'good'\n",
    "s2 = 'morning'\n",
    "new_string = swap_string_chars(s1, s2)\n",
    "print(new_string)\n"
   ]
  },
  {
   "cell_type": "code",
   "execution_count": 4,
   "id": "b8cfb1cd",
   "metadata": {},
   "outputs": [
    {
     "name": "stdout",
     "output_type": "stream",
     "text": [
      "jumping\n",
      "swimmingly\n",
      "do\n"
     ]
    }
   ],
   "source": [
    "#QUE-->>Write a Python program to add 'ing' at the end of a given string (length \n",
    "#should be at least 3). If the given string already ends with 'ing' then add \n",
    "#'ly' instead if the string length of the given string is less than 3, leave it unchanged.\n",
    "\n",
    "def add_ing_or_ly(string):\n",
    "    if len(string) < 3:\n",
    "        return string\n",
    "    elif string[-3:] == 'ing':\n",
    "        return string + 'ly'\n",
    "    else:\n",
    "        return string + 'ing'\n",
    "string1 = 'jump'\n",
    "string2 = 'swimming'\n",
    "string3 = 'do'\n",
    "print(add_ing_or_ly(string1))\n",
    "print(add_ing_or_ly(string2)) \n",
    "print(add_ing_or_ly(string3)) \n"
   ]
  },
  {
   "cell_type": "code",
   "execution_count": 5,
   "id": "e55f9874",
   "metadata": {},
   "outputs": [
    {
     "name": "stdout",
     "output_type": "stream",
     "text": [
      "The lyrics are good!\n",
      "The lyrics are poor, but not that poor!\n",
      "The lyrics are poor but not that poor, you know.\n"
     ]
    }
   ],
   "source": [
    "#QUE-->>Write a Python program to find the first appearance of the substring \n",
    "#'not' and 'poor' from a given string, if 'not' follows the 'poor', replace the \n",
    "#whole 'not'...'poor' substring with 'good'. Return the resulting string.\n",
    "def not_poor(string):\n",
    "    poor_index = string.find('poor')\n",
    "    not_index = string.find('not')\n",
    "    \n",
    "    if poor_index != -1 and not_index != -1 and not_index < poor_index:\n",
    "        return string[:not_index] + 'good' + string[poor_index+4:]\n",
    "    else:\n",
    "        return string\n",
    "string1 = 'The lyrics are not that poor!'\n",
    "string2 = 'The lyrics are poor, but not that poor!'\n",
    "string3 = 'The lyrics are poor but not that poor, you know.'\n",
    "print(not_poor(string1)) \n",
    "print(not_poor(string2)) \n",
    "print(not_poor(string3)) \n"
   ]
  },
  {
   "cell_type": "code",
   "execution_count": 6,
   "id": "b55217c7",
   "metadata": {},
   "outputs": [
    {
     "name": "stdout",
     "output_type": "stream",
     "text": [
      "6\n"
     ]
    }
   ],
   "source": [
    "#QUE-->> Write a Python function that takes a list of words and returns the length \n",
    "#of the longest one.\n",
    "def find_longest_word(words):\n",
    "    max_len = 0\n",
    "    for word in words:\n",
    "        if len(word) > max_len:\n",
    "            max_len = len(word)\n",
    "    return max_len\n",
    "words1 = ['apple', 'banana', 'cherry', 'durian']\n",
    "print(find_longest_word(words1))"
   ]
  },
  {
   "cell_type": "code",
   "execution_count": 7,
   "id": "26d469e6",
   "metadata": {},
   "outputs": [
    {
     "name": "stdout",
     "output_type": "stream",
     "text": [
      "apple\n",
      "banana\n",
      "cherry\n",
      "mango\n"
     ]
    }
   ],
   "source": [
    "#QUE-->>Write a Python function to reverses a string if its length is a multiple of 4.\n",
    "def reverse_if_multiple_of_four(string):\n",
    "    if len(string) % 4 == 0:\n",
    "        return string[::-1]\n",
    "    else:\n",
    "        return string\n",
    "string1 = 'apple'\n",
    "string2 = 'banana'\n",
    "string3 = 'cherry'\n",
    "string4 = 'mango'\n",
    "print(reverse_if_multiple_of_four(string1))\n",
    "print(reverse_if_multiple_of_four(string2))\n",
    "print(reverse_if_multiple_of_four(string3))\n",
    "print(reverse_if_multiple_of_four(string4))\n"
   ]
  },
  {
   "cell_type": "code",
   "execution_count": 9,
   "id": "5c9f2673",
   "metadata": {},
   "outputs": [
    {
     "name": "stdout",
     "output_type": "stream",
     "text": [
      "aple\n",
      "bana\n",
      "\n"
     ]
    }
   ],
   "source": [
    "#QUE-->>Write a Python program to get a string made of the first 2 and the last \n",
    "#2 chars from a given a string. If the string length is less than 2, return \n",
    "#instead of the empty string.\n",
    "def get_new_string(string):\n",
    "    if len(string) < 2:\n",
    "        return ''\n",
    "    else:\n",
    "        return string[:2] + string[-2:]\n",
    "string1 = 'apple'\n",
    "string2 = 'banana'\n",
    "string3 = 'c'\n",
    "print(get_new_string(string1))\n",
    "print(get_new_string(string2))\n",
    "print(get_new_string(string3))\n"
   ]
  },
  {
   "cell_type": "code",
   "execution_count": 10,
   "id": "52483204",
   "metadata": {},
   "outputs": [
    {
     "name": "stdout",
     "output_type": "stream",
     "text": [
      "abcXYZdef\n",
      "gh1234ijk\n"
     ]
    }
   ],
   "source": [
    "#QUE-->>Write a Python function to insert a string in the middle of a string.\n",
    "def insert_string_in_middle(original_string, insert_string):\n",
    "    middle_index = len(original_string) // 2\n",
    "    return original_string[:middle_index] + insert_string + original_string[middle_index:]\n",
    "original_string1 = 'abcdef'\n",
    "insert_string1 = 'XYZ'\n",
    "original_string2 = 'ghijk'\n",
    "insert_string2 = '1234'\n",
    "print(insert_string_in_middle(original_string1, insert_string1))\n",
    "print(insert_string_in_middle(original_string2, insert_string2)) \n"
   ]
  },
  {
   "cell_type": "code",
   "execution_count": 3,
   "id": "a9af645a",
   "metadata": {},
   "outputs": [
    {
     "name": "stdout",
     "output_type": "stream",
     "text": [
      "Using reverse()  [12, 11, 10, 9, 8, 7]\n",
      "Using reversed()  [7, 8, 9, 10, 11, 12]\n"
     ]
    }
   ],
   "source": [
    "#QUE-->> What is List? How will you reverse a list?\n",
    "\n",
    "#-->Lists are used to store multiple items in a single variable.\n",
    "#Lists are one of 4 built-in data types in Python used to store collections of data,\n",
    "#the other 3 are Tuple, Set, and Dictionary, all with different qualities and usage.\n",
    "\n",
    "lst = [7, 8, 9, 10, 11, 12]\n",
    "lst.reverse()\n",
    "print(\"Using reverse() \", lst)\n",
    "\n",
    "print(\"Using reversed() \", list(reversed(lst)))\n"
   ]
  },
  {
   "cell_type": "code",
   "execution_count": null,
   "id": "c6f6e579",
   "metadata": {},
   "outputs": [],
   "source": []
  }
 ],
 "metadata": {
  "kernelspec": {
   "display_name": "Python 3 (ipykernel)",
   "language": "python",
   "name": "python3"
  },
  "language_info": {
   "codemirror_mode": {
    "name": "ipython",
    "version": 3
   },
   "file_extension": ".py",
   "mimetype": "text/x-python",
   "name": "python",
   "nbconvert_exporter": "python",
   "pygments_lexer": "ipython3",
   "version": "3.9.13"
  }
 },
 "nbformat": 4,
 "nbformat_minor": 5
}
